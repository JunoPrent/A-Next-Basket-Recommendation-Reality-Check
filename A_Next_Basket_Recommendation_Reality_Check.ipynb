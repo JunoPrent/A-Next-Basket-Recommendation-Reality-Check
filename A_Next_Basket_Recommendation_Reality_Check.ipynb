{
  "nbformat": 4,
  "nbformat_minor": 0,
  "metadata": {
    "colab": {
      "provenance": [],
      "gpuType": "T4"
    },
    "kernelspec": {
      "name": "python3",
      "display_name": "Python 3"
    },
    "language_info": {
      "name": "python"
    },
    "accelerator": "GPU"
  },
  "cells": [
    {
      "cell_type": "code",
      "execution_count": null,
      "metadata": {
        "id": "uA9lVByqoX_w"
      },
      "outputs": [],
      "source": [
        "import os\n",
        "os.chdir(\"drive/MyDrive/A-Next-Basket-Recommendation-Reality-Check\")\n",
        "!python keyset_fold.py --dataset tafeng --fold_id 0\n",
        "os.chdir(\"methods\")"
      ]
    },
    {
      "cell_type": "code",
      "source": [
        "!python dream/trainer.py --dataset tafeng --fold_id 0 --attention 1"
      ],
      "metadata": {
        "id": "m4QQomO0yVlb"
      },
      "execution_count": null,
      "outputs": []
    }
  ]
}